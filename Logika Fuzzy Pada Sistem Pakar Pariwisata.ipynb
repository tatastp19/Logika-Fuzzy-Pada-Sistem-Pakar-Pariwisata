{
 "cells": [
  {
   "cell_type": "markdown",
   "metadata": {},
   "source": [
    "# Aplikasi Logika Fuzzy Pada Sistem Pakar Pariwisata\n",
    "NIM 09011381722118\n",
    "\n",
    "NAMA TATA SATRIA TIMOR PERDANA\n",
    "\n",
    "KELAS SK 5 BUKIT\n",
    "\n",
    "Sistem ini dapat membantu para calon wisatawan dalam menentukan tujuan wisata. faktor faktor penentu yang menjadi masukan sitem adalah total dana(budget), jarak dan lama perjalanan \n"
   ]
  },
  {
   "cell_type": "code",
   "execution_count": 19,
   "metadata": {},
   "outputs": [],
   "source": [
    "import numpy as np\n",
    "import skfuzzy as fuzz\n",
    "from skfuzzy import control as ctrl\n",
    "import matplotlib.pyplot as plt "
   ]
  },
  {
   "cell_type": "markdown",
   "metadata": {},
   "source": [
    "# Fuzzyfikasi"
   ]
  },
  {
   "cell_type": "code",
   "execution_count": 20,
   "metadata": {},
   "outputs": [],
   "source": [
    "budget = ctrl.Antecedent(np.arange(0, 15, 1),'budget')\n",
    "jarak = ctrl.Antecedent(np.arange(0, 3100, 1),'jarak')\n",
    "durasi = ctrl.Antecedent(np.arange(0, 7, 1),'durasi')"
   ]
  },
  {
   "cell_type": "markdown",
   "metadata": {},
   "source": [
    "# Data yang dipakai di dalam penelitian ini yaitu ;\n",
    "\n",
    "1. data budget = total harga tiket masuk objek wisata berdasarkan jumlah durasi(lama) wisata\n",
    "2. data jarak = data jarak tempuh\n",
    "3. data durasi = lama wisata yang dimasukkan pengguna\n",
    "    \n",
    "   ketiga hal diatas sebagai input\n"
   ]
  },
  {
   "cell_type": "code",
   "execution_count": 21,
   "metadata": {},
   "outputs": [],
   "source": [
    "budget['kecil'] = fuzz.trapmf(budget.universe,[0, 0, 2, 5])\n",
    "budget['sedang'] = fuzz.trimf(budget.universe,[4, 7, 10])\n",
    "budget['besar'] = fuzz.trapmf(budget.universe,[9, 12, 15, 15])"
   ]
  },
  {
   "cell_type": "markdown",
   "metadata": {},
   "source": [
    "# Fungsi data keanggotaan budget ;\n",
    "1. kecil (0-5 juta)\n",
    "2. sedang (4-10 juta)\n",
    "3. besar (9-15 juta)"
   ]
  },
  {
   "cell_type": "markdown",
   "metadata": {},
   "source": [
    "\\begin{equation}\n",
    "  budget['kecil'] = \\mu kecil(x)=\\begin{cases}\n",
    "    1, & \\text{$0\\leq x\\leq2$}.\\\\\n",
    "    (5 - x)/(5 - 2) , & \\text{$2 \\leq x \\leq 5$}.\\\\\n",
    "    0, & \\text{$x\\geq 5 $ }.\\\n",
    "  \\end{cases}\n",
    "  \\\\\n",
    "  budget['sedang'] = \\mu sedang(x)=\\begin{cases}\n",
    "    0, & \\text{$x\\leq 4$ atau $x\\geq10$}. \\\\\n",
    "    (x - 4)/(7 - 4) , & \\text{$4 \\leq x \\leq 7$}.\\\\\n",
    "    (10 - x)/(10 - 7) , & \\text{$7 \\leq x \\leq 10$}.\\\\\n",
    "  \\end{cases}\n",
    "  \\\\\n",
    "  budget['besar'] = \\mu besar(x)=\\begin{cases}\n",
    "    0, & \\text{$9\\leq x\\leq12$}.\\\\\n",
    "    (15 - x)/(15 - 12) , & \\text{$12 \\leq x \\leq 15$}.\\\\\n",
    "    1, & \\text{$x\\geq 15 $ }.\\\\\n",
    "  \\end{cases}\n",
    "\\end{equation}"
   ]
  },
  {
   "cell_type": "code",
   "execution_count": 22,
   "metadata": {},
   "outputs": [
    {
     "name": "stderr",
     "output_type": "stream",
     "text": [
      "C:\\Users\\Lenovo\\Anaconda3\\lib\\site-packages\\matplotlib\\figure.py:418: UserWarning: matplotlib is currently using a non-GUI backend, so cannot show the figure\n",
      "  \"matplotlib is currently using a non-GUI backend, \"\n"
     ]
    },
    {
     "data": {
      "image/png": "[encoded data removed]",
      "text/plain": [
       "<matplotlib.figure.Figure at 0x226c9a48e10>"
      ]
     },
     "metadata": {},
     "output_type": "display_data"
    }
   ],
   "source": [
    "budget.view()"
   ]
  },
  {
   "cell_type": "code",
   "execution_count": 27,
   "metadata": {},
   "outputs": [],
   "source": [
    "jarak['dekat'] = fuzz.trapmf(jarak.universe, [0, 0, 1100, 2200])\n",
    "jarak['jauh'] = fuzz.trapmf(jarak.universe, [2000, 2550, 3100, 3100])"
   ]
  },
  {
   "cell_type": "markdown",
   "metadata": {},
   "source": [
    "# Fungsi data keanggotaan jarak ;\n",
    "1. dekat (0-2200 km)\n",
    "2. jauh (2000-3100 km)"
   ]
  },
  {
   "cell_type": "markdown",
   "metadata": {},
   "source": [
    "\\begin{equation}\n",
    "   jarak['dekat'] = \\mu dekat(x)=\\begin{cases}\n",
    "    1, & \\text{$0\\leq x\\leq1100$}.\\\\\n",
    "    (2200 - x)/(2200 - 1100) , & \\text{$1100 \\leq x \\leq 2200$}.\\\\\n",
    "    0, & \\text{$x\\geq 2200 $ }.\\\\\n",
    "  \\end{cases}\n",
    "  \\\\\n",
    " Pekerjaan['jauh'] = \\mu jauh(x)=\\begin{cases}\n",
    "    0, & \\text{$2000\\leq x\\leq2200$}.\\\\\n",
    "    (3100 - x)/(3100 - 2200) , & \\text{$2200 \\leq x \\leq 3100$}.\\\\\n",
    "    1, & \\text{$x\\geq 3100 $ }.\\\\\n",
    "   \\end{cases}\n",
    "\\end{equation}"
   ]
  },
  {
   "cell_type": "code",
   "execution_count": 28,
   "metadata": {},
   "outputs": [
    {
     "name": "stderr",
     "output_type": "stream",
     "text": [
      "C:\\Users\\Lenovo\\Anaconda3\\lib\\site-packages\\matplotlib\\figure.py:418: UserWarning: matplotlib is currently using a non-GUI backend, so cannot show the figure\n",
      "  \"matplotlib is currently using a non-GUI backend, \"\n"
     ]
    },
    {
     "data": {
      "image/png": "[encoded data removed]",
      "text/plain": [
       "<matplotlib.figure.Figure at 0x226cabbc710>"
      ]
     },
     "metadata": {},
     "output_type": "display_data"
    }
   ],
   "source": [
    "jarak.view()"
   ]
  },
  {
   "cell_type": "code",
   "execution_count": 29,
   "metadata": {},
   "outputs": [],
   "source": [
    "durasi['sebentar'] = fuzz.trapmf(durasi.universe, [0, 0, 2, 4])\n",
    "durasi['lama'] = fuzz.trapmf(durasi.universe, [3, 5, 7, 7])\n"
   ]
  },
  {
   "cell_type": "markdown",
   "metadata": {},
   "source": [
    "# Fungsi data keanggotaan durasi ;\n",
    "1. sebentar (0-4 hari)\n",
    "2. lama (3-7 hari)"
   ]
  },
  {
   "cell_type": "markdown",
   "metadata": {},
   "source": [
    "\\begin{equation}\n",
    "   durasi['sebentar'] = \\mu sebentar(x)=\\begin{cases}\n",
    "    1, & \\text{$0\\leq x\\leq2$}.\\\\\n",
    "    (4 - x)/(4 - 2) , & \\text{$2 \\leq x \\leq 4$}.\\\\\n",
    "    0, & \\text{$x\\geq 4 $ }.\\\\\n",
    "  \\end{cases}\n",
    "  \\\\\n",
    "    durasi['lama'] = \\mu lama(x)=\\begin{cases}\n",
    "    0, & \\text{$3\\leq x\\leq7$}.\\checkmark\\\\\n",
    "    (7 - x)/(7 - 5) , & \\text{$5 \\leq x \\leq 7$}.\\\\\n",
    "    1, & \\text{$x\\geq 7 $ }.\\\\\n",
    "  \\end{cases}\n",
    "\\end{equation}"
   ]
  },
  {
   "cell_type": "code",
   "execution_count": 30,
   "metadata": {},
   "outputs": [
    {
     "name": "stderr",
     "output_type": "stream",
     "text": [
      "C:\\Users\\Lenovo\\Anaconda3\\lib\\site-packages\\matplotlib\\figure.py:418: UserWarning: matplotlib is currently using a non-GUI backend, so cannot show the figure\n",
      "  \"matplotlib is currently using a non-GUI backend, \"\n"
     ]
    },
    {
     "data": {
      "image/png": "[encoded data removed]",
      "text/plain": [
       "<matplotlib.figure.Figure at 0x226cabbcef0>"
      ]
     },
     "metadata": {},
     "output_type": "display_data"
    }
   ],
   "source": [
    "durasi.view()"
   ]
  },
  {
   "cell_type": "code",
   "execution_count": 31,
   "metadata": {},
   "outputs": [],
   "source": [
    "kondisi = ctrl.Consequent(np.arange(0, 126, 1),'kondisi')"
   ]
  },
  {
   "cell_type": "markdown",
   "metadata": {},
   "source": [
    "kondisi sebagai output"
   ]
  },
  {
   "cell_type": "code",
   "execution_count": 32,
   "metadata": {},
   "outputs": [],
   "source": [
    "kondisi['tidak memungkinkan'] = fuzz.trimf(kondisi.universe,[0, 0, 50])\n",
    "kondisi['kurang memungkinkan'] = fuzz.trimf(kondisi.universe,[25, 50, 125])\n",
    "kondisi['memungkinkan'] = fuzz.trimf(kondisi.universe,[50, 125, 125])"
   ]
  },
  {
   "cell_type": "code",
   "execution_count": 33,
   "metadata": {},
   "outputs": [
    {
     "name": "stderr",
     "output_type": "stream",
     "text": [
      "C:\\Users\\Lenovo\\Anaconda3\\lib\\site-packages\\matplotlib\\figure.py:418: UserWarning: matplotlib is currently using a non-GUI backend, so cannot show the figure\n",
      "  \"matplotlib is currently using a non-GUI backend, \"\n"
     ]
    },
    {
     "data": {
      "image/png": "[encoded data removed]",
      "text/plain": [
       "<matplotlib.figure.Figure at 0x226cac28438>"
      ]
     },
     "metadata": {},
     "output_type": "display_data"
    }
   ],
   "source": [
    "kondisi.view()"
   ]
  },
  {
   "cell_type": "markdown",
   "metadata": {},
   "source": [
    "# Inferencing\n",
    "Pada tahap inferencing, membuat aturan-aturan fuzzy yang dinyatakan dalam bentuk IF .... THEN ....\n",
    "\n",
    "1. IF Budget KECIL dan Jarak DEKAT dan Durasi SEBENTAR THEN Kondisi MEMUNGKINKAN\n",
    "2. IF Budget KECIL dan Jarak DEKAT dan Durasi LAMA THEN Kondisi KURANG MEMUNGKINKAN\n",
    "3. IF Budget KECIL dan Jarak JAUH dan Durasi SEBENTAR THEN Kondisi TIDAK MEMUNGKINKAN\n",
    "4. IF Budget KECIL dan Jarak JAUH dan Durasi LAMA THEN Kondisi TIDAK MEMUNGKINKAN\n",
    "\n",
    "5. IF Budget SEDANG dan Jarak DEKAT dan Durasi SEBENTAR THEN Kondisi MEMUNGKINKAN\n",
    "6. IF Budget SEDANG dan Jarak DEKAT dan Durasi LAMA THEN Kondisi MEMUNGKINKAN\n",
    "7. IF Budget SEDANG dan Jarak JAUH dan Durasi SEBENTAR THEN Kondisi KURANG MEMUNGKINKAN\n",
    "8. IF Budget SEDANG dan Jarak JAUH dan Durasi LAMA THEN Kondisi TIDAK MEMUNGKINKAN\n",
    "\n",
    "9. IF Budget BESAR dan Jarak DEKAT dan Durasi SEBENTAR THEN Kondisi MEMUNGKINKAN\n",
    "10. IF Budget BESAR dan Jarak DEKAT dan Durasi LAMA THEN Kondisi MEMUNGKINKAN\n",
    "11. IF Budget BESAR dan Jarak JAUH dan Durasi SEBENTAR THEN Kondisi MEMUNGKINKAN\n",
    "12. IF Budget BESAR dan Jarak JAUH dan Durasi LAMA THEN Kondisi MEMUNGKINKAN"
   ]
  },
  {
   "cell_type": "markdown",
   "metadata": {},
   "source": [
    "|Rule|budget|jarak|durasi|kondisi|\n",
    "|----|----|----|----|----|----|----|----|\n",
    "|rule1|Kecil|Dekat|sebentar|memungkinkan|\n",
    "|rule2|kecil|dekat| lama| kurang memungkinkan|\n",
    "|rule3|kecil| jauh| sebentar| tidak memungkinkan|\n",
    "|rule4| kecil| jauh| lama| tidak memungkinkan| \n",
    "|rule5| sedang| dekat| sebentar| memungkinkan|\n",
    "|rule6| sedang|dekat| lama| memungkinkan|\n",
    "|rule7| sedang| jauh| sebentar| kurang memungkinkan|\n",
    "|rule8| sedang| jauh| lama| tidak memungkinkan|\n",
    "|rule9| besar| dekat| sebentar| memungkinkan|\n",
    "|rule10| besar| dekat| lama| memungkinkan|\n",
    "|rule11| besar| jauh| sebentar| memungkinkan| \n",
    "|rule12| besar| jauh| lama| memungkinkan|"
   ]
  },
  {
   "cell_type": "markdown",
   "metadata": {},
   "source": [
    "# Rule  base "
   ]
  },
  {
   "cell_type": "code",
   "execution_count": 34,
   "metadata": {},
   "outputs": [],
   "source": [
    "rule1 = ctrl.Rule(budget['kecil'] & jarak['dekat'] & durasi['sebentar'], kondisi['memungkinkan'])\n",
    "rule2 = ctrl.Rule(budget['kecil'] & jarak['dekat'] & durasi['lama'], kondisi['kurang memungkinkan'])\n",
    "rule3 = ctrl.Rule(budget['kecil'] & jarak['jauh'] & durasi['sebentar'], kondisi['tidak memungkinkan'])\n",
    "rule4 = ctrl.Rule(budget['kecil'] & jarak['jauh'] & durasi['lama'], kondisi['tidak memungkinkan'])\n",
    "rule5 = ctrl.Rule(budget['sedang'] & jarak['dekat'] & durasi['sebentar'], kondisi['memungkinkan'])\n",
    "rule6 = ctrl.Rule(budget['sedang'] & jarak['dekat'] & durasi['lama'], kondisi['memungkinkan'])\n",
    "rule7 = ctrl.Rule(budget['sedang'] & jarak['jauh'] & durasi['sebentar'], kondisi['kurang memungkinkan'])\n",
    "rule8 = ctrl.Rule(budget['sedang'] & jarak['jauh'] & durasi['lama'], kondisi['tidak memungkinkan'])\n",
    "rule9 = ctrl.Rule(budget['besar'] & jarak['dekat'] & durasi['sebentar'], kondisi['memungkinkan'])\n",
    "rule10 = ctrl.Rule(budget['besar'] & jarak['dekat'] & durasi['lama'], kondisi['memungkinkan'])\n",
    "rule11 = ctrl.Rule(budget['besar'] & jarak['jauh'] & durasi['sebentar'], kondisi['memungkinkan'])\n",
    "rule12 = ctrl.Rule(budget['besar'] & jarak['jauh'] & durasi['lama'], kondisi['memungkinkan'])"
   ]
  },
  {
   "cell_type": "markdown",
   "metadata": {},
   "source": [
    "# DEFUZZYFIKASI"
   ]
  },
  {
   "cell_type": "code",
   "execution_count": 35,
   "metadata": {},
   "outputs": [],
   "source": [
    "kondisi_ctrl = ctrl.ControlSystem([rule1, rule2, rule3, rule4, rule5, rule6, rule7, rule8, rule9, rule10, rule11, rule12])"
   ]
  },
  {
   "cell_type": "code",
   "execution_count": 36,
   "metadata": {},
   "outputs": [
    {
     "name": "stdout",
     "output_type": "stream",
     "text": [
      "97.57575757575755\n"
     ]
    },
    {
     "name": "stderr",
     "output_type": "stream",
     "text": [
      "C:\\Users\\Lenovo\\Anaconda3\\lib\\site-packages\\matplotlib\\figure.py:418: UserWarning: matplotlib is currently using a non-GUI backend, so cannot show the figure\n",
      "  \"matplotlib is currently using a non-GUI backend, \"\n"
     ]
    },
    {
     "data": {
      "image/png": "[encoded data removed]",
      "text/plain": [
       "<matplotlib.figure.Figure at 0x226cacef240>"
      ]
     },
     "metadata": {},
     "output_type": "display_data"
    }
   ],
   "source": [
    "braking = ctrl.ControlSystemSimulation(kondisi_ctrl)\n",
    "\n",
    "braking.input['budget'] = 6\n",
    "braking.input['jarak'] = 1500\n",
    "braking.input['durasi'] = 5\n",
    "braking.compute()\n",
    "\n",
    "print(braking.output['kondisi'])\n",
    "\n",
    "kondisi.view(sim=braking)\n"
   ]
  },
  {
   "cell_type": "markdown",
   "metadata": {},
   "source": [
    "# Perhitungan Manual\n",
    "\\begin{equation}\n",
    "    budget = 6 \\\\\n",
    "  budget['kecil'] = \\mu kecil(x)=\\begin{cases}\n",
    "    1, & \\text{$0\\leq x\\leq2$}.\\\\\n",
    "    (5 - x)/(5 - 2) , & \\text{$2 \\leq x \\leq 5$}.\\\\\n",
    "    0, & \\text{$x\\geq 5 $ }.\\checkmark\n",
    "  \\end{cases}\n",
    "  \\\\\n",
    "  budget['sedang'] = \\mu sedang(x)=\\begin{cases}\n",
    "    0, & \\text{$x\\leq 4$ atau $x\\geq10$}. \\checkmark \\\\\n",
    "    (x - 4)/(7 - 4) , & \\text{$4 \\leq x \\leq 7$}.\\checkmark\\\\\n",
    "    (10 - x)/(10 - 7) , & \\text{$7 \\leq x \\leq 10$}.\\\\\n",
    "  \\end{cases}\n",
    "  \\\\\n",
    "  budget['besar'] = \\mu besar(x)=\\begin{cases}\n",
    "    0, & \\text{$9\\leq x\\leq12$}.\\\\\n",
    "    (15 - x)/(15 - 12) , & \\text{$12 \\leq x \\leq 15$}.\\\\\n",
    "    1, & \\text{$x\\geq 15 $ }.\\\\\n",
    "  \\end{cases}\n",
    "\\end{equation}\n",
    "\n",
    "   "
   ]
  },
  {
   "cell_type": "markdown",
   "metadata": {},
   "source": [
    "\\begin{equation}\n",
    "    \\mu sedang(6) = (6 - 4)/ (7 - 4) \\\\\n",
    "    \\mu sedang(6) = 2/3 \\\\ \n",
    "    \\mu sedang(6) = 0.667 \\\\   \n",
    "\\end{equation}"
   ]
  },
  {
   "cell_type": "markdown",
   "metadata": {},
   "source": [
    "\\begin{equation}\n",
    "    jarak = 1500 \\\\\n",
    "   jarak['dekat'] = \\mu dekat(x)=\\begin{cases}\n",
    "    1, & \\text{$0\\leq x\\leq1100$}.\\\\\n",
    "    (2200 - x)/(2200 - 1100) , & \\text{$1100 \\leq x \\leq 2200$}.\\checkmark\\\\\n",
    "    0, & \\text{$x\\geq 2200 $ }.\\\\\n",
    "  \\end{cases}\n",
    "  \\\\\n",
    " Pekerjaan['jauh'] = \\mu jauh(x)=\\begin{cases}\n",
    "    0, & \\text{$2000\\leq x\\leq2200$}.\\\\\n",
    "    (3100 - x)/(3100 - 2200) , & \\text{$2200 \\leq x \\leq 3100$}.\\\\\n",
    "    1, & \\text{$x\\geq 3100 $ }.\\\\\n",
    "   \\end{cases}\n",
    "\\end{equation}"
   ]
  },
  {
   "cell_type": "markdown",
   "metadata": {},
   "source": [
    "\\begin{equation}\n",
    "    \\mu dekat(1500) = (2200 - 1500) / (2200 - 2000) \\\\\n",
    "    \\mu dekat(1500) = 700/200 \\\\ \n",
    "    \\mu dekat(1500) = 3.5 \\\\\n",
    "\\end{equation}"
   ]
  },
  {
   "cell_type": "markdown",
   "metadata": {},
   "source": [
    "\\begin{equation}\n",
    "    durasi = 5 \\\\\n",
    "   durasi['sebentar'] = \\mu sebentar(x)=\\begin{cases}\n",
    "    1, & \\text{$0\\leq x\\leq2$}.\\\\\n",
    "    (4 - x)/(4 - 2) , & \\text{$2 \\leq x \\leq 4$}.\\checkmark\\\\\n",
    "    0, & \\text{$x\\geq 4 $ }.\\\\\n",
    "  \\end{cases}\n",
    "  \\\\\n",
    "    durasi['lama'] = \\mu lama(x)=\\begin{cases}\n",
    "    0, & \\text{$3\\leq x\\leq7$}.\\checkmark\\\\\n",
    "    (7 - x)/(7 - 5) , & \\text{$5 \\leq x \\leq 7$}.\\checkmark\\\\\n",
    "    1, & \\text{$x\\geq 7 $ }.\\\\\n",
    "  \\end{cases}\n",
    "\\end{equation}"
   ]
  },
  {
   "cell_type": "markdown",
   "metadata": {},
   "source": [
    "\\begin{equation}\n",
    "    \\mu sebentar(5) = (4 - 5) / (4 - 2) \\\\\n",
    "    \\mu sebentar(5) = -1/2 \\\\ \n",
    "    \\mu sebentar(5) = -0.5 \\\\\n",
    "    \\mu lama(5) = (7 - 5) / (7 - 5) \\\\\n",
    "    \\mu lama(5) = 2/2 \\\\\n",
    "    \\mu lama(5) = 1 \\\\\n",
    "\\end{equation} "
   ]
  },
  {
   "cell_type": "markdown",
   "metadata": {},
   "source": [
    "Lalu kita cari nilai z untuk setiap aturan dengan menggunakan fungsi MIN karena menggunakan rule AND\n",
    "\n",
    "1 IF Budget KECIL AND Jarak DEKAT AND Durasi SEBENTAR THEN Kondisi MEMUNGKINKAN\n",
    "\n",
    "$$ \\\\ \\alpha(predikat_1) = \\mu BudgetKecil \\cap \\mu JarakDekat \\cap \\mu DurasiSebentar $$\n",
    "$$\\alpha(predikat_1)   = min (\\mu BudgetKecil[6], \\mu JarakDekat[1500], \\mu DurasiSebentar[5]) $$\n",
    "$$ \\alpha(predikat_1) = min (0; 3.5; -0.5) $$\n",
    "$$ \\alpha(predikat_1) = 0 $$\n",
    "\n",
    "Lalu lihat himpunan Kondisi MEMUNGKINKAN \n",
    "$$\n",
    "   kondisi['memungkinkan'] = \\mu(x)=\\begin{cases}\n",
    "    0, & \\text{$x\\leq 50$ atau $x\\geq125$}.\\\\\n",
    "    \\left.(x - 50)\\, \\right/(125 - 50) , & \\text{$50 \\leq x \\leq 125$}.\\\\\n",
    "    \\left.(125 - x)\\, \\right/(125 - 125) , & \\text{$125 \\leq x \\leq 125$}.\\\\\n",
    "  \\end{cases}\n",
    " $$\n",
    "Maka nilai $ Z_1 = 0 $\n"
   ]
  },
  {
   "cell_type": "markdown",
   "metadata": {},
   "source": [
    "2 IF Budget KECIL AND Jarak DEKAT AND Durasi LAMA THEN Kondisi KURANG MEMUNGKINKAN\n",
    "\n",
    "$$ \\\\ \\alpha(predikat_2) = \\mu BudgetKecil \\cap \\mu JarakDekat \\cap \\mu DurasiLama $$\n",
    "$$\\alpha(predikat_2)   = min (\\mu Budgetkecil[6], \\mu JarakDekat[1500], \\mu DurasiLama[5]) $$\n",
    "$$ \\alpha(predikat_2) = min (0; 3.5; 1 ) $$\n",
    "$$ \\alpha(predikat_2) = 0 $$\n",
    "\n",
    "Lalu lihat himpunan kondisi KURANG MEMUNGKINKAN \n",
    "$$\n",
    "   Kondisi['kurang memungkinkan'] = \\mu(x)=\\begin{cases}\n",
    "    0, & \\text{$x\\leq 25$ atau $x\\geq125$}.\\\\\n",
    "    \\left.(x - 25)\\, \\right/(50 - 25) , & \\text{$25 \\leq x \\leq 50$}.\\\\\n",
    "    \\left.(125 - x)\\, \\right/(125 - 50) , & \\text{$50 \\leq x \\leq 125$}.\\\\\n",
    "  \\end{cases}\n",
    "$$\n",
    "\n",
    "Maka nilai $ Z_2 = 0 $\n"
   ]
  },
  {
   "cell_type": "markdown",
   "metadata": {},
   "source": [
    "3 IF Budget KECIL AND Jarak JAUH AND Durasi SEBENTAR THEN Kondisi TIDAK MEMUNGKINKAN\n",
    "\n",
    "$$ \\\\ \\alpha(predikat_3) = \\mu BudgetKecil \\cap \\mu JarakJauh \\cap \\mu Durasi SEBENTAR $$\n",
    "$$\\alpha(predikat_3)   = min (\\mu BudgetKecil[6], \\mu JarakJauh[1500], \\mu DurasiSebentar[5]) $$\n",
    "$$ \\alpha(predikat_3) = min (0; 0; -0.5) $$\n",
    "$$ \\alpha(predikat_3) = 0 $$\n",
    "\n",
    "Lalu lihat himpunan kondisi tidak memungkinkan\n",
    "$$\n",
    "  \\\\\n",
    "   kondisi['Tidak Memungkinkan'] = \\mu(x)=\\begin{cases}\n",
    "    0, & \\text{$x\\leq 11$ atau $x\\geq15$}.\\\\\n",
    "    \\left.(x - 50)\\, \\right/(0 - 0) , & \\text{$50 \\leq x \\leq 50$}.\\\\\n",
    "    \\left.(50 - x)\\, \\right/(50 - 0) , & \\text{$50 \\leq x \\leq 50$}.\\\\\n",
    "  \\end{cases}\n",
    "  \\\\\n",
    "$$\n",
    "\n",
    "Maka nilai $ Z_3 = 0 $"
   ]
  },
  {
   "cell_type": "markdown",
   "metadata": {},
   "source": [
    "4 IF Budget KECIL AND Jarak JAUH AND Durasi LAMA THEN Kondisi TIDAK MEMUNGKINKAN\n",
    "\n",
    "$$ \\\\ \\alpha(predikat_4) = \\mu BudgetKecil \\cap \\mu JarakJauh \\cap \\mu DurasiLama$$\n",
    "$$\\alpha(predikat_4)   = min (\\mu BudgetKecil[6], \\mu JarakJauh[1500], \\mu DurasiLama[5]) $$\n",
    "$$ \\alpha(predikat_4) = min (0; 0; 1) $$\n",
    "$$ \\alpha(predikat_4) = 0 $$\n",
    "\n",
    "Lalu lihat himpunan KOndisi Memungkinkan\n",
    "$$ kondisi['memungkinkan'] = \\mu(x)=\\begin{cases}\n",
    "    0, & \\text{$x \\leq 50$}.\\\\\n",
    "    \\left.(x - 50) \\,  \\right/(125 - 50) , & \\text{$50 \\leq x \\leq 125$}.\\\\\n",
    "    1, & \\text{$x\\geq 125$}.\n",
    "  \\end{cases}\n",
    "$$\n",
    "\n",
    "Maka nilai $ Z_4 = 0 $\n"
   ]
  },
  {
   "cell_type": "markdown",
   "metadata": {},
   "source": [
    "5 IF budget SEDANG AND jarak DEKAT AND Durasi SEBENTAR THEN kondisi MEMUNGKINKAN\n",
    "\n",
    "$$ \\\\ \\alpha(predikat_5) = \\mu budgetsedang \\cap \\mu jarakdekat \\cap \\mu durasisebentar $$\n",
    "$$\\alpha(predikat_5)   = min (\\mu budgetsedang[6], \\mu jarakdekat[1500], \\mu durasisebentar[5]) $$\n",
    "$$ \\alpha(predikat_5) = min (0.667; 3.5; -0.5) $$\n",
    "$$ \\alpha(predikat_5) = -1.167 $$\n",
    "\n",
    "Lalu lihat himpunan kondisi memungkinkan\n",
    "$$\n",
    "    kondisi['memungkinkan'] = \\mu(x)=\\begin{cases}\n",
    "    0, & \\text{$x\\leq 3$ atau $x\\geq8$}.\\\\\n",
    "    \\left.(x - 50)\\, \\right/(125 - 50) , & \\text{$50 \\leq x \\leq 125$}.\\\\\n",
    "    \\left.(125 - x)\\, \\right/(125 - 125) , & \\text{$125 \\leq x \\leq 125$}.\\\\\n",
    "  \\end{cases}\n",
    "$$\n",
    "\n",
    "Maka nilai keanggotaan yang memenuhi adalah -1.167\n",
    "Maka nilai Z$_5$ = -1.167\n",
    "Terdapat 1 nilai keanggotaan yang akan kita masukkan nilainya\n",
    "\n",
    "$$\n",
    "(x-50) / (125-50) = -1.167 \\\\\n",
    "(x-50) = -64.2 \\\\ \n",
    "x = -14.2 \\\\\n",
    "$$\n",
    "\n",
    "Maka nilai Z$_5$ = -14.2\n"
   ]
  },
  {
   "cell_type": "markdown",
   "metadata": {},
   "source": [
    "6 IF Budget sedang dan Jarak dekat dan  Durasi lama THEN Kondisi memungkinkan\n",
    "\n",
    "$$ \\\\ \\alpha(predikat_6) = \\mu Budgetsedang \\cap \\mu jarakdekat \\cap \\mu durasilama $$\n",
    "$$\\alpha(predikat_6)   = min (\\mu budgetsedang[6], \\mu jarakdekat[1500], \\mu durasilama[5]) $$\n",
    "$$ \\alpha(predikat_6) = min (0.667; 3.5; 1) $$\n",
    "$$ \\alpha(predikat_6) = 2.33 $$\n",
    "\n",
    "Lalu lihat himpunan Durasi Cepat\n",
    "$$\n",
    "    kondisi['memungkinkan'] = \\mu(x)=\\begin{cases}\n",
    "    0, & \\text{$x\\leq 50$ atau $x\\geq125$}.\\\\\n",
    "    \\left.(x - 50)\\, \\right/(125 - 50) , & \\text{$50 \\leq x \\leq 125$}.\\\\\n",
    "    \\left.(125 - x)\\, \\right/(125 - 125) , & \\text{$125 \\leq x \\leq 125$}.\\\\\n",
    "  \\end{cases}\n",
    "$$\n",
    "\n",
    "Maka nilai keanggotaan yang memenuhi adalah 2.33\n",
    "Terdapat 1 nilai keanggotaan yang akan kita masukkan nilainya\n",
    "\n",
    "$$\n",
    "(x-50) / (125-50) = 2.33 \\\\\n",
    "(x-50) = 32.1 \\\\ \n",
    "x = 82.1 \\\\\n",
    "$$\n",
    "\n",
    "Maka nilai Z$_6$ = 82.1\n"
   ]
  },
  {
   "cell_type": "markdown",
   "metadata": {},
   "source": [
    "7 IF Budget SEDANG AND Jarak JAUH AND Durasi SEBENTAR THEN Kondisi KURANG MEMUNGKINKAN\n",
    "$$ \\\\ \\alpha(predikat_7) = \\mu budgetsedang \\cap \\mu jarakjauh \\cap \\mu durasissebentar $$\n",
    "$$\\alpha(predikat_7)   = min (\\mu BudgetSedang[6], \\mu JarakJauh[1500], \\mu DurasisSebentar[5]) $$\n",
    "$$ \\alpha(predikat_7) = min (0.667; 0; 1) $$\n",
    "$$ \\alpha(predikat_7) = 0 $$\n",
    "\n",
    "Lalu lihat himpunan Kondisi KURANG MEMUNGKINKAN\n",
    "\n",
    "$$\n",
    "   kondisi['kurang memungkinkan'] = \\mu(x)=\\begin{cases}\n",
    "    0, & \\text{$x\\leq 7$ atau $x\\geq12$}.\\\\\n",
    "    \\left.(x - 25)\\, \\right/(50 - 25) , & \\text{$25 \\leq x \\leq 50$}.\\\\\n",
    "    \\left.(125 - x)\\, \\right/(125 - 50) , & \\text{$50 \\leq x \\leq 125$}.\\\\\n",
    "  \\end{cases}\n",
    "$$\n",
    "\n",
    "Maka nilai keanggotaan yang memenuhi adalah 0\n",
    "Maka nilai Z$_7$ = 0"
   ]
  },
  {
   "cell_type": "markdown",
   "metadata": {},
   "source": [
    "8 IF Budget SEDANG dan Jarak JAUH AND Durasi LAMA THEN Kondisi TIDAK MEMUNGKINKAN\n",
    "$$ \\\\ \\alpha(predikat_8) = \\mu Budgetsedang \\cap \\mu jarakjauh \\cap \\mu DurasiLama $$\n",
    "$$\\alpha(predikat_8)   = min (\\mu BudgetSedang[6], \\mu JarakJauh[1500], DurasiLama[5]) $$\n",
    "$$ \\alpha(predikat_8) = min (0.667; 0; 1) $$\n",
    "$$ \\alpha(predikat_8) = 0 $$\n",
    "\n",
    "Lalu lihat himpunan Kondisi TIDAK MEMUNGKINKAN\n",
    "$$\n",
    "  \\\\\n",
    "   kondisi['tidak memungkinkan'] = \\mu(x)=\\begin{cases}\n",
    "    0, & \\text{$x\\leq 0$ atau $x\\geq50$}.\\\\\n",
    "    \\left.(x - 0)\\, \\right/(50 - 0) , & \\text{$0 \\leq x \\leq 0$}.\\\\\n",
    "    \\left.(50 - x)\\, \\right/(50 - 0) , & \\text{$0 \\leq x \\leq 50$}.\\\\\n",
    "  \\end{cases}\n",
    "  \\\\\n",
    "$$\n",
    "\n",
    "Maka nilai keanggotaan yang memenuhi adalah 0\n",
    "Maka nilai Z$_8$ = 0"
   ]
  },
  {
   "cell_type": "markdown",
   "metadata": {},
   "source": [
    "9 IF Budget BESAR AND Jarak DEKAT AND Durasi SEBENTAR THEN Kondisi MEMUNGKINKAN\n",
    "$$ \\\\ \\alpha(predikat_9) = \\mu BudgetBesar \\cap \\mu JarakDekat \\cap \\mu DurasiSebentar $$\n",
    "$$\\alpha(predikat_9)   = min (\\mu Budgetbesar[6], \\mu Jarakdekat[1500], \\mu Durasisebentar[5]) $$\n",
    "$$ \\alpha(predikat_9) = min (0; 3.5; -0.5) $$\n",
    "$$ \\alpha(predikat_9) = 0 $$\n",
    "\n",
    "Lalu lihat himpunan Kondisi MEMUNGKINKAN\n",
    "$$ Kondisi['MEMUNGKINKAN'] = \\mu(x)=\\begin{cases}\n",
    "    1, & \\text{$50\\leq x \\leq 125$}.\\\\\n",
    "    \\left.(125 - x) \\,  \\right/(125 - 50) , & \\text{$50 \\leq x \\leq 125$}.\\\\\n",
    "    0, & \\text{$x\\geq 125$}.\n",
    "  \\end{cases}\n",
    "  \\\\\n",
    "$$\n",
    "\n",
    "Maka nilai keanggotaan yang memenuhi adalah 0\n",
    "Maka nilai Z$_9$ = 0"
   ]
  },
  {
   "cell_type": "markdown",
   "metadata": {},
   "source": [
    "10 IF Budget BESAR AND Jarak DEKAT AND durasi LAMA THEN Kondisi MEMUNGKINKAN\n",
    "$$ \\\\ \\alpha(predikat_1\\,_0) = \\mu budgetbesar \\cap \\mu jarakdekat \\cap \\mu durasilama $$\n",
    "$$\\alpha(predikat_1\\,_0)   = min (\\mu budgetbesar[6], \\mu jarakdekat[1500], \\mu durasilama[5]) $$\n",
    "$$ \\alpha(predikat_1\\,_0) = min (0; 3.5; 1) $$\n",
    "$$ \\alpha(predikat_1\\,_0) = 0 $$\n",
    "\n",
    "Lalu lihat himpunan Durasi Cepat\n",
    "$$\n",
    "    kondisi['MUNGKINKAN'] = \\mu(x)=\\begin{cases}\n",
    "    0, & \\text{$x\\leq 50$ atau $x\\geq125$}.\\\\\n",
    "    \\left.(x - 50)\\, \\right/(125 - 50) , & \\text{$50 \\leq x \\leq 125$}.\\\\\n",
    "    \\left.(125 - x)\\, \\right/(125 - 50) , & \\text{$50 \\leq x \\leq 125$}.\\\\\n",
    "  \\end{cases}\n",
    "$$\n",
    "\n",
    "Maka nilai keanggotaan yang memenuhi adalah 0\n",
    "Maka nilai Z$_1$$_0$ = 0"
   ]
  },
  {
   "cell_type": "markdown",
   "metadata": {},
   "source": [
    "11 IF Budget BESAR dan Jarak JAUH AND Durasi SEBENTAR THEN Kondisi MEMUNGKINKAN\n",
    "$$ \\\\ \\alpha(predikat_1\\,_1) = \\mu BudgetBesar \\cap \\mu JarakJauh \\cap \\mu DurasiSebentar $$\n",
    "$$\\alpha(predikat_1\\,_1)   = min (\\mu BudgetBesar[6], \\mu jarakjauh[1500], \\mu DurasiSebentar[5]) $$\n",
    "$$ \\alpha(predikat_1\\,_1) = min (0; 0; -0.5) $$\n",
    "$$ \\alpha(predikat_1\\,_1) = 0 $$\n",
    "\n",
    "Lalu lihat himpunan Kondisi Memungkinkan\n",
    "$$\n",
    "    Kondisi['Memungkinkan'] = \\mu(x)=\\begin{cases}\n",
    "    0, & \\text{$x\\leq 50$ atau $x\\geq125$}.\\\\\n",
    "    \\left.(x - 50)\\, \\right/(125 - 50) , & \\text{$50 \\leq x \\leq 125$}.\\\\\n",
    "    \\left.(125 - x)\\, \\right/(125 - 50) , & \\text{$50 \\leq x \\leq 125$}.\\\\\n",
    "  \\end{cases}\n",
    "$$\n",
    "\n",
    "Maka nilai keanggotaan yang memenuhi adalah 0\n",
    "Maka nilai Z$_1$$_1$ = 0"
   ]
  },
  {
   "cell_type": "markdown",
   "metadata": {},
   "source": [
    "12 IF Budget BESAR AND Jarak JAUH AND Durasi LAMA THEN Kondisi MEMUNGKINNKAN\n",
    "$$ \\\\ \\alpha(predikat_1\\,_2) = \\mu BudgetBesar \\cap \\mu JarakJauh \\cap \\mu DurasiLama  $$\n",
    "$$\\alpha(predikat_1\\,_2)   = min (\\mu BudgetBesar[5], \\mu JarakJauh[1500], \\mu DuraiLama[5]) $$\n",
    "$$ \\alpha(predikat_1\\,_2) = min (0; 0; 1) $$\n",
    "$$ \\alpha(predikat_1\\,_2) = 0 $$\n",
    "\n",
    "Lalu lihat himpunan Kondisi memungkinkan\n",
    "$$\n",
    "    Kondisi['Memungkinkan'] = \\mu(x)=\\begin{cases}\n",
    "    0, & \\text{$x\\leq 50$ atau $x\\geq125$}.\\\\\n",
    "    \\left.(x - 50)\\, \\right/(125 - 50) , & \\text{$50 \\leq x \\leq 125$}.\\\\\n",
    "    \\left.(125 - x)\\, \\right/(125 - 50) , & \\text{$50 \\leq x \\leq 125$}.\\\\\n",
    "  \\end{cases}\n",
    "$$\n",
    "\n",
    "Maka nilai keanggotaan yang memenuhi adalah 0\n",
    "Maka nilai Z$_1$$_2$ = 0"
   ]
  },
  {
   "cell_type": "markdown",
   "metadata": {},
   "source": [
    "Dari sini kita dapat mencari nilai z, yaitu :"
   ]
  },
  {
   "cell_type": "markdown",
   "metadata": {},
   "source": [
    "Z =$$ \\frac{\\alpha predikat_1 \\times Z_1 +\n",
    "\\alpha predikat_2 \\times Z_2 +\n",
    "\\alpha predikat_3 \\times Z_3 +\n",
    "\\alpha predikat_4 \\times Z_4 +\n",
    "\\alpha predikat_5 \\times Z_5 +\n",
    "\\alpha predikat_6 \\times Z_6 +\n",
    "\\alpha predikat_7 \\times Z_7 +\n",
    "\\alpha predikat_8 \\times Z_8 +\n",
    "\\alpha predikat_9 \\times Z_9 +\n",
    "\\alpha predikat_1\\,_0 \\times Z_1\\,_1 +\n",
    "\\alpha predikat_1\\,_1 \\times Z_1\\,_2 +\n",
    "\\alpha predikat_1\\,_2 \\times Z_1\\,_2 +}\n",
    "{\\alpha predikat_1 + \\alpha predikat_2 +\n",
    "\\alpha predikat_3 + \\alpha predikat_4 +\n",
    "\\alpha predikat_5 + \\alpha predikat_6 +\n",
    "\\alpha predikat_7 + \\alpha predikat_8 +\n",
    "\\alpha predikat_9 + \\alpha predikat_1\\,_0 +\n",
    "\\alpha predikat_1\\,_1 + \\alpha predikat_1\\,_2}$$"
   ]
  },
  {
   "cell_type": "markdown",
   "metadata": {},
   "source": [
    "$$Z = \\frac{0 + 0 + 0 + 0 + -1,167 \\times 14,2 + 2.33 \\times 82.1 + 0 + 0 + 0 + 0 + 0 + 0 + 0 + 0}{0 + 0 + 0 + 0 + -1,167 + 2.33 + 0 + 0 + 0 +0 +0 +0} $$\n",
    " \n",
    " $$ Z = \\frac{-16.5 + 191.2}{1.63} $$\n",
    " $$ Z = 107,17 \\,  $$"
   ]
  },
  {
   "cell_type": "markdown",
   "metadata": {},
   "source": [
    "Hasil output Kondisi yang dikeluarkan menggunakan code python sebesar 97,57% sedangkan perhitungan manual kondisi sebesar 107,17%. Terdapat perbedaan kondisi sebesar 9,6%"
   ]
  },
  {
   "cell_type": "code",
   "execution_count": null,
   "metadata": {},
   "outputs": [],
   "source": []
  }
 ],
 "metadata": {
  "kernelspec": {
   "display_name": "Python 3",
   "language": "python",
   "name": "python3"
  },
  "language_info": {
   "codemirror_mode": {
    "name": "ipython",
    "version": 3
   },
   "file_extension": ".py",
   "mimetype": "text/x-python",
   "name": "python",
   "nbconvert_exporter": "python",
   "pygments_lexer": "ipython3",
   "version": "3.6.4"
  }
 },
 "nbformat": 4,
 "nbformat_minor": 2
}
